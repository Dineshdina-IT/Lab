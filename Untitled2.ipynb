{
  "nbformat": 4,
  "nbformat_minor": 0,
  "metadata": {
    "colab": {
      "provenance": [],
      "authorship_tag": "ABX9TyMfWi0Q0Le9sAnPbjF5GF5p",
      "include_colab_link": true
    },
    "kernelspec": {
      "name": "python3",
      "display_name": "Python 3"
    },
    "language_info": {
      "name": "python"
    }
  },
  "cells": [
    {
      "cell_type": "markdown",
      "metadata": {
        "id": "view-in-github",
        "colab_type": "text"
      },
      "source": [
        "<a href=\"https://colab.research.google.com/github/Dineshdina-IT/Lab/blob/main/Untitled2.ipynb\" target=\"_parent\"><img src=\"https://colab.research.google.com/assets/colab-badge.svg\" alt=\"Open In Colab\"/></a>"
      ]
    },
    {
      "cell_type": "code",
      "source": [
        "# Import necessary libraries\n",
        "import pandas as pd\n",
        "import numpy as np\n",
        "from sklearn.model_selection import train_test_split\n",
        "from sklearn.feature_extraction.text import TfidfVectorizer\n",
        "from sklearn.preprocessing import LabelEncoder\n",
        "\n",
        "# Step 1: Load the dataset as a CSV file\n",
        "file_path = 'dataset_phishing.csv'\n",
        "data = pd.read_csv(file_path)\n",
        "\n",
        "print(\"File loaded successfully as CSV!\")\n",
        "print(data.head())  # Display first 5 rows\n",
        "\n",
        "# Step 2: Handle missing values (if any)\n",
        "data = data.dropna()\n",
        "print(f\"Dataset after dropping missing values: {data.shape}\")\n",
        "\n",
        "# Step 3: Encode the labels (convert 'benign' and 'malicious' to 0s and 1s)\n",
        "label_encoder = LabelEncoder()\n",
        "y = label_encoder.fit_transform(data['status'])  # Convert 'benign'/'malicious' to 0/1\n",
        "\n",
        "# Step 4: Text feature extraction using TF-IDF Vectorizer\n",
        "vectorizer = TfidfVectorizer(max_features=500)  # Limit to 500 features\n",
        "X = vectorizer.fit_transform(data['url']).toarray()\n",
        "\n",
        "print(f\"TF-IDF transformation complete. Feature shape: {X.shape}\")\n",
        "\n",
        "# Step 5: Split into Training and Testing Sets\n",
        "X_train, X_test, y_train, y_test = train_test_split(X, y, test_size=0.2, random_state=42)\n",
        "\n",
        "print(\"Data Splitting Complete:\")\n",
        "print(f\"Training Data: {X_train.shape}, Testing Data: {X_test.shape}\")\n",
        "\n",
        "# Step 6: Save the preprocessed data\n",
        "np.save('X_train.npy', X_train)\n",
        "np.save('X_test.npy', X_test)\n",
        "np.save('y_train.npy', y_train)\n",
        "np.save('y_test.npy', y_test)\n",
        "\n",
        "print(\"Preprocessing Done! Files saved as X_train.npy, X_test.npy, y_train.npy, y_test.npy.\")"
      ],
      "metadata": {
        "colab": {
          "base_uri": "https://localhost:8080/"
        },
        "id": "KLtspvrkuqdN",
        "outputId": "12b68f49-c74f-4169-f7a4-f4a836ab2346"
      },
      "execution_count": null,
      "outputs": [
        {
          "output_type": "stream",
          "name": "stdout",
          "text": [
            "File loaded successfully as CSV!\n",
            "                                                 url     status\n",
            "0                                   br-icloud.com.br  malicious\n",
            "1                mp3raid.com/music/krizz_kaliko.html     benign\n",
            "2                    bopsecrets.org/rexroth/cr/1.htm     benign\n",
            "3  http://www.garage-pirenne.be/index.php?option=...  malicious\n",
            "4  http://adventure-nicaragua.net/index.php?optio...  malicious\n",
            "Dataset after dropping missing values: (651191, 2)\n",
            "TF-IDF transformation complete. Feature shape: (651191, 500)\n",
            "Data Splitting Complete:\n",
            "Training Data: (520952, 500), Testing Data: (130239, 500)\n",
            "Preprocessing Done! Files saved as X_train.npy, X_test.npy, y_train.npy, y_test.npy.\n"
          ]
        }
      ]
    },
    {
      "cell_type": "code",
      "source": [
        "# Import necessary libraries\n",
        "import numpy as np\n",
        "import tensorflow as tf\n",
        "from tensorflow.keras.models import Sequential\n",
        "from tensorflow.keras.layers import Dense, GRU, Dropout\n",
        "from tensorflow.keras.callbacks import EarlyStopping\n",
        "\n",
        "# Step 1: Load the preprocessed data\n",
        "X_train = np.load('X_train.npy')\n",
        "X_test = np.load('X_test.npy')\n",
        "y_train = np.load('y_train.npy')\n",
        "y_test = np.load('y_test.npy')\n",
        "\n",
        "print(\"Preprocessed data loaded successfully.\")\n",
        "print(f\"Training data shape: {X_train.shape}, Testing data shape: {X_test.shape}\")\n",
        "\n",
        "# Step 2: Reshape the input for GRU\n",
        "# GRU expects 3D input: (samples, timesteps, features)\n",
        "X_train = X_train.reshape((X_train.shape[0], 1, X_train.shape[1]))\n",
        "X_test = X_test.reshape((X_test.shape[0], 1, X_test.shape[1]))\n",
        "\n",
        "# Step 3: Build the GRU model\n",
        "model = Sequential([\n",
        "    GRU(64, input_shape=(X_train.shape[1], X_train.shape[2]), return_sequences=False),\n",
        "    Dropout(0.3),  # Prevent overfitting\n",
        "    Dense(32, activation='relu'),\n",
        "    Dense(1, activation='sigmoid')  # Binary classification output\n",
        "])\n",
        "\n",
        "# Step 4: Compile the model\n",
        "model.compile(optimizer='adam', loss='binary_crossentropy', metrics=['accuracy'])\n",
        "\n",
        "# Step 5: Train the GRU model\n",
        "early_stopping = EarlyStopping(monitor='val_loss', patience=5, restore_best_weights=True)\n",
        "\n",
        "print(\"Training GRU model...\")\n",
        "history = model.fit(\n",
        "    X_train, y_train,\n",
        "    validation_split=0.2,\n",
        "    epochs=20,\n",
        "    batch_size=64,\n",
        "    callbacks=[early_stopping],\n",
        "    verbose=1\n",
        ")\n",
        "\n",
        "# Step 6: Evaluate the model\n",
        "print(\"\\nEvaluating the model on test data...\")\n",
        "test_loss, test_accuracy = model.evaluate(X_test, y_test)\n",
        "print(f\"Test Loss: {test_loss:.4f}, Test Accuracy: {test_accuracy:.4f}\")"
      ],
      "metadata": {
        "colab": {
          "base_uri": "https://localhost:8080/"
        },
        "id": "EGfPNIo4vKoN",
        "outputId": "e7fa0cdc-e3a0-4822-f561-d2aba610524c"
      },
      "execution_count": null,
      "outputs": [
        {
          "output_type": "stream",
          "name": "stdout",
          "text": [
            "Preprocessed data loaded successfully.\n",
            "Training data shape: (520952, 500), Testing data shape: (130239, 500)\n"
          ]
        },
        {
          "output_type": "stream",
          "name": "stderr",
          "text": [
            "/usr/local/lib/python3.10/dist-packages/keras/src/layers/rnn/rnn.py:204: UserWarning: Do not pass an `input_shape`/`input_dim` argument to a layer. When using Sequential models, prefer using an `Input(shape)` object as the first layer in the model instead.\n",
            "  super().__init__(**kwargs)\n"
          ]
        },
        {
          "output_type": "stream",
          "name": "stdout",
          "text": [
            "Training GRU model...\n",
            "Epoch 1/20\n",
            "\u001b[1m6512/6512\u001b[0m \u001b[32m━━━━━━━━━━━━━━━━━━━━\u001b[0m\u001b[37m\u001b[0m \u001b[1m49s\u001b[0m 7ms/step - accuracy: 0.8996 - loss: 0.2507 - val_accuracy: 0.9333 - val_loss: 0.1791\n",
            "Epoch 2/20\n",
            "\u001b[1m6512/6512\u001b[0m \u001b[32m━━━━━━━━━━━━━━━━━━━━\u001b[0m\u001b[37m\u001b[0m \u001b[1m81s\u001b[0m 7ms/step - accuracy: 0.9352 - loss: 0.1775 - val_accuracy: 0.9401 - val_loss: 0.1677\n",
            "Epoch 3/20\n",
            "\u001b[1m6512/6512\u001b[0m \u001b[32m━━━━━━━━━━━━━━━━━━━━\u001b[0m\u001b[37m\u001b[0m \u001b[1m80s\u001b[0m 7ms/step - accuracy: 0.9397 - loss: 0.1673 - val_accuracy: 0.9422 - val_loss: 0.1620\n",
            "Epoch 4/20\n",
            "\u001b[1m6512/6512\u001b[0m \u001b[32m━━━━━━━━━━━━━━━━━━━━\u001b[0m\u001b[37m\u001b[0m \u001b[1m82s\u001b[0m 7ms/step - accuracy: 0.9416 - loss: 0.1619 - val_accuracy: 0.9435 - val_loss: 0.1578\n",
            "Epoch 5/20\n",
            "\u001b[1m6512/6512\u001b[0m \u001b[32m━━━━━━━━━━━━━━━━━━━━\u001b[0m\u001b[37m\u001b[0m \u001b[1m84s\u001b[0m 7ms/step - accuracy: 0.9439 - loss: 0.1564 - val_accuracy: 0.9448 - val_loss: 0.1544\n",
            "Epoch 6/20\n",
            "\u001b[1m6512/6512\u001b[0m \u001b[32m━━━━━━━━━━━━━━━━━━━━\u001b[0m\u001b[37m\u001b[0m \u001b[1m47s\u001b[0m 7ms/step - accuracy: 0.9438 - loss: 0.1541 - val_accuracy: 0.9450 - val_loss: 0.1529\n",
            "Epoch 7/20\n",
            "\u001b[1m6512/6512\u001b[0m \u001b[32m━━━━━━━━━━━━━━━━━━━━\u001b[0m\u001b[37m\u001b[0m \u001b[1m83s\u001b[0m 7ms/step - accuracy: 0.9456 - loss: 0.1504 - val_accuracy: 0.9456 - val_loss: 0.1500\n",
            "Epoch 8/20\n",
            "\u001b[1m6512/6512\u001b[0m \u001b[32m━━━━━━━━━━━━━━━━━━━━\u001b[0m\u001b[37m\u001b[0m \u001b[1m82s\u001b[0m 7ms/step - accuracy: 0.9457 - loss: 0.1503 - val_accuracy: 0.9461 - val_loss: 0.1489\n",
            "Epoch 9/20\n",
            "\u001b[1m6512/6512\u001b[0m \u001b[32m━━━━━━━━━━━━━━━━━━━━\u001b[0m\u001b[37m\u001b[0m \u001b[1m82s\u001b[0m 7ms/step - accuracy: 0.9469 - loss: 0.1469 - val_accuracy: 0.9471 - val_loss: 0.1484\n",
            "Epoch 10/20\n",
            "\u001b[1m6512/6512\u001b[0m \u001b[32m━━━━━━━━━━━━━━━━━━━━\u001b[0m\u001b[37m\u001b[0m \u001b[1m81s\u001b[0m 7ms/step - accuracy: 0.9468 - loss: 0.1463 - val_accuracy: 0.9472 - val_loss: 0.1482\n",
            "Epoch 11/20\n",
            "\u001b[1m6512/6512\u001b[0m \u001b[32m━━━━━━━━━━━━━━━━━━━━\u001b[0m\u001b[37m\u001b[0m \u001b[1m81s\u001b[0m 7ms/step - accuracy: 0.9471 - loss: 0.1455 - val_accuracy: 0.9475 - val_loss: 0.1471\n",
            "Epoch 12/20\n",
            "\u001b[1m6512/6512\u001b[0m \u001b[32m━━━━━━━━━━━━━━━━━━━━\u001b[0m\u001b[37m\u001b[0m \u001b[1m47s\u001b[0m 7ms/step - accuracy: 0.9485 - loss: 0.1422 - val_accuracy: 0.9476 - val_loss: 0.1462\n",
            "Epoch 13/20\n",
            "\u001b[1m6512/6512\u001b[0m \u001b[32m━━━━━━━━━━━━━━━━━━━━\u001b[0m\u001b[37m\u001b[0m \u001b[1m85s\u001b[0m 8ms/step - accuracy: 0.9483 - loss: 0.1420 - val_accuracy: 0.9475 - val_loss: 0.1460\n",
            "Epoch 14/20\n",
            "\u001b[1m6512/6512\u001b[0m \u001b[32m━━━━━━━━━━━━━━━━━━━━\u001b[0m\u001b[37m\u001b[0m \u001b[1m77s\u001b[0m 7ms/step - accuracy: 0.9481 - loss: 0.1421 - val_accuracy: 0.9477 - val_loss: 0.1458\n",
            "Epoch 15/20\n",
            "\u001b[1m6512/6512\u001b[0m \u001b[32m━━━━━━━━━━━━━━━━━━━━\u001b[0m\u001b[37m\u001b[0m \u001b[1m81s\u001b[0m 7ms/step - accuracy: 0.9486 - loss: 0.1413 - val_accuracy: 0.9480 - val_loss: 0.1454\n",
            "Epoch 16/20\n",
            "\u001b[1m6512/6512\u001b[0m \u001b[32m━━━━━━━━━━━━━━━━━━━━\u001b[0m\u001b[37m\u001b[0m \u001b[1m84s\u001b[0m 7ms/step - accuracy: 0.9485 - loss: 0.1409 - val_accuracy: 0.9479 - val_loss: 0.1449\n",
            "Epoch 17/20\n",
            "\u001b[1m6512/6512\u001b[0m \u001b[32m━━━━━━━━━━━━━━━━━━━━\u001b[0m\u001b[37m\u001b[0m \u001b[1m47s\u001b[0m 7ms/step - accuracy: 0.9487 - loss: 0.1406 - val_accuracy: 0.9477 - val_loss: 0.1446\n",
            "Epoch 18/20\n",
            "\u001b[1m6512/6512\u001b[0m \u001b[32m━━━━━━━━━━━━━━━━━━━━\u001b[0m\u001b[37m\u001b[0m \u001b[1m82s\u001b[0m 7ms/step - accuracy: 0.9491 - loss: 0.1382 - val_accuracy: 0.9480 - val_loss: 0.1445\n",
            "Epoch 19/20\n",
            "\u001b[1m6512/6512\u001b[0m \u001b[32m━━━━━━━━━━━━━━━━━━━━\u001b[0m\u001b[37m\u001b[0m \u001b[1m48s\u001b[0m 7ms/step - accuracy: 0.9502 - loss: 0.1369 - val_accuracy: 0.9482 - val_loss: 0.1449\n",
            "Epoch 20/20\n",
            "\u001b[1m6512/6512\u001b[0m \u001b[32m━━━━━━━━━━━━━━━━━━━━\u001b[0m\u001b[37m\u001b[0m \u001b[1m48s\u001b[0m 7ms/step - accuracy: 0.9493 - loss: 0.1380 - val_accuracy: 0.9479 - val_loss: 0.1447\n",
            "\n",
            "Evaluating the model on test data...\n",
            "\u001b[1m4070/4070\u001b[0m \u001b[32m━━━━━━━━━━━━━━━━━━━━\u001b[0m\u001b[37m\u001b[0m \u001b[1m9s\u001b[0m 2ms/step - accuracy: 0.9485 - loss: 0.1426\n",
            "Test Loss: 0.1444, Test Accuracy: 0.9482\n"
          ]
        }
      ]
    }
  ]
}